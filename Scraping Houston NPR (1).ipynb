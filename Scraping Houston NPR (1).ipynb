{
 "cells": [
  {
   "cell_type": "markdown",
   "id": "32e31483",
   "metadata": {},
   "source": [
    "## Scrape the Houston NPR website\n",
    "\n",
    "I want a CSV file called `npr.csv` that includes a row for each story in the top section, with these columns:\n",
    "\n",
    "* `section`, the section of the story (e.g. \"Transportation\", \"Harris County\")\n",
    "* `title`, the title of the story\n",
    "* `url`, the full URL to the story\n",
    "\n",
    "If you want to start by printing these out, that's fine, but the end result is hopefully a CSV. If you'd like to filter out the rows without a title before saving that would be nice."
   ]
  },
  {
   "cell_type": "code",
   "execution_count": 7,
   "id": "018cc11b",
   "metadata": {},
   "outputs": [],
   "source": [
    "# https://www.houstonpublicmedia.org/\n",
    "\n",
    "from bs4 import BeautifulSoup\n",
    "import requests\n",
    "\n",
    "response = requests.get(\"https://www.houstonpublicmedia.org/\")\n",
    "doc = BeautifulSoup(response.text)\n"
   ]
  },
  {
   "cell_type": "code",
   "execution_count": 18,
   "id": "4f0b5517",
   "metadata": {},
   "outputs": [
    {
     "name": "stdout",
     "output_type": "stream",
     "text": [
      "Abortion\n",
      "Business\n",
      "The Coronavirus\n",
      "Criminal Justice\n",
      "Education News\n",
      "Weather\n",
      "Transportation\n",
      "Harris County\n",
      "Houston Matters\n",
      "Town Square\n",
      "Breaking News\n",
      "Immigration\n",
      "Immigration\n",
      "Military & Veterans' Issues\n",
      "Houston Matters\n",
      "Town Square\n",
      "Health & Science\n",
      "astroworld\n",
      "Health Matters\n",
      "Bauer Business Focus\n",
      "Health & Science\n",
      "Election 2021\n",
      "Politics\n",
      "Houston Matters\n",
      "Health & Science\n",
      "Business\n",
      "Criminal Justice\n",
      "Houston Matters\n",
      "Town Square\n",
      "Politics\n",
      "Business\n",
      "Politics\n",
      "Houston Public Media\n",
      "Compliance\n",
      "Subscribe to Our Newsletters\n"
     ]
    }
   ],
   "source": [
    "#section\n",
    "doc.find_all('h3')\n",
    "\n",
    "\n",
    "for section in doc.find_all('h3'):\n",
    "    print(section.string)"
   ]
  },
  {
   "cell_type": "code",
   "execution_count": 19,
   "id": "129a5111",
   "metadata": {},
   "outputs": [
    {
     "name": "stdout",
     "output_type": "stream",
     "text": [
      "Supreme Court considers whether to reverse Roe v. Wade\n",
      "There's a Santa shortage just weeks before Christmas\n",
      "Judge blocks Biden administration's COVID-19 vaccination mandate for health care workers after Texas, other states sue\n",
      "Harris County will spend $2.6 million on a new policing program\n",
      "Texas will receive $35 billion in federal infrastructure funds. How much will go to Houston remains uncertain\n",
      "‘Misleading and dangerous’ — Human rights groups condemn Gov. Abbott’s rhetoric on South Africa\n",
      "Masks, state takeovers and ‘critical race theory’ are on the ballot as 4 HISD board members face runoff challenges\n",
      "Texas health experts ‘not panicking’ over COVID’s omicron variant, expect cases to appear soon\n",
      "14-year-old boy was trampled to death at Astroworld concert, family’s attorney says\n",
      "Rice University has named a new director at the Kinder Institute for Urban Research\n",
      "2021 Atlantic hurricane season ends as third most active on record\n",
      "TxDOT gets the OK to continue limited work on a controversial I-45 expansion\n",
      "Harris County leaders create a new government board for low-wage frontline workers\n",
      "The 2022 job forecast for Houston (Dec. 1, 2021)\n",
      "'We are not done with the virus. And the virus is not done with us,' says global health expert about omicron\n",
      "Clear Brook High School is no longer under evacuation, after no bomb was found\n",
      "Coronavirus shuts down legal proceedings in latest misstep for Texas border crackdown\n",
      "Listen live: Supreme Court considers whether to reverse Roe v. Wade arguments\n",
      "This Mississippi clinic is at the center of the case that could end Roe v. Wade\n",
      "Democracy is declining in the U.S. but it's not all bad news, a report finds\n",
      "CNN suspends Chris Cuomo indefinitely over his role in his brother's defense \n",
      "'Misleading and dangerous' — Human rights groups condemn Gov. Abbott’s rhetoric on South Africa\n",
      "Sutherland Springs victims’ lawyer calls government offer ‘inhumane, shocking’\n",
      "The omicron variant's threat to Houston (Nov. 30, 2021)\n",
      "What is the impact – and future – of Facebook and other digital technologies?\n",
      "Texas health experts 'not panicking' over COVID's omicron variant, expect cases to appear soon\n",
      "14-year-old boy was trampled to death at Astroworld concert, family's attorney says\n",
      "Taking Care of a Caregiver\n",
      "Inclusive Designs\n",
      "As omicron spreads, studies suggest that travel bans alone don't do much good\n",
      "Here are the 4 HISD board candidates facing a runoff\n",
      "Matthew McConaughey says he won’t run for Texas governor\n",
      "HISD board runoffs, and how Houston changed sports (Nov. 29, 2021)\n",
      "Health experts urge Texans to get vaccinated ahead of flu season\n",
      "A pandemic-fueled labor shortage has put a strain on some Houston restaurants\n",
      "3 white men are found guilty of murder in the killing of Ahmaud Arbery\n",
      "The week in politics, and the World Table Tennis Championships (Nov. 24, 2021)\n",
      "How to avoid getting in the red when shopping on Black Friday\n",
      "A Houston affordable housing program is now on hold, following a state review\n",
      "Nearly 4 million Texans expected to travel this year for Thanksgiving holiday, AAA reports\n",
      "U.S. Rep. Louie Gohmert joins Texas Republicans running against Attorney General Ken Paxton\n"
     ]
    }
   ],
   "source": [
    "# title, the title of the story\n",
    "\n",
    "doc.find_all('h2')\n",
    "\n",
    "for title in doc.find_all('h2'):\n",
    "    print(title.string)\n",
    "\n",
    "# url, the full URL to the story"
   ]
  },
  {
   "cell_type": "code",
   "execution_count": 21,
   "id": "8bf69ced",
   "metadata": {},
   "outputs": [
    {
     "name": "stdout",
     "output_type": "stream",
     "text": [
      "https://www.houstonpublicmedia.org/articles/news/politics/2021/12/01/414481/supreme-court-considers-whether-to-reverse-roe-v-wade-in-historic-arguments/\n",
      "https://www.houstonpublicmedia.org/articles/news/business/2021/12/01/414456/santa-shortage-hits-weeks-before-christmas/\n",
      "https://www.houstonpublicmedia.org/articles/news/politics/2021/12/01/414470/judge-blocks-biden-administrations-covid-19-vaccination-mandate-for-health-care-workers-after-texas-other-states-sue/\n",
      "https://www.houstonpublicmedia.org/articles/news/criminal-justice/2021/12/01/414475/a-2-6-million-policing-proposal-will-increase-law-enforcement-presence-in-parts-of-unincorporated-harris-county/\n",
      "/articles/news/in-depth/2021/11/15/413380/texas-will-receive-35-44-billion-in-federal-infrastructure-funds-but-how-much-will-go-to-houston-remains-uncertain\n",
      "/articles/news/politics/immigration/2021/11/30/414365/misleading-and-dangerous-human-rights-groups-condemn-gov-abbotts-rhetoric-on-south-africa\n",
      "/articles/news/in-depth/2021/11/29/414194/hisd-board-members-face-hard-runoff-challenges\n",
      "/articles/news/health-science/2021/11/29/414342/texas-health-experts-not-panicking-over-covids-omicron-variant-expect-cases-to-appear-soon\n",
      "/articles/news/criminal-justice/2021/11/29/414325/14-year-old-boy-was-trampled-to-death-at-astroworld-concert-familys-attorney-says\n",
      "https://www.houstonpublicmedia.org/articles/news/education-news/2021/12/01/414391/rice-university-names-next-director-of-kinder-institute-for-urban-research/\n",
      "https://www.houstonpublicmedia.org/articles/news/weather/2021/12/01/414487/2021-atlantic-hurricane-season-ends-as-third-most-active-on-record/\n",
      "https://www.houstonpublicmedia.org/articles/news/transportation/2021/11/30/414398/txdot-gets-the-ok-to-continue-limited-work-on-a-controversial-i-45-expansion/\n",
      "https://www.houstonpublicmedia.org/articles/news/harris-county/2021/11/30/414399/harris-county-leaders-create-a-new-government-board-for-low-wage-frontline-workers/\n",
      "https://www.houstonpublicmedia.org/articles/shows/houston-matters/2021/12/01/414440/the-2022-job-forecast-for-houston-dec-1-2021/\n",
      "https://www.houstonpublicmedia.org/articles/shows/town-square/2021/11/30/414412/we-are-not-done-with-the-virus-and-the-virus-is-not-done-with-us-says-global-health-expert-about-omicron/\n",
      "https://www.houstonpublicmedia.org/articles/news/education-news/2021/11/30/414381/clear-brook-high-school-under-evacuation-after-potential-bomb-threat/\n",
      "https://www.houstonpublicmedia.org/articles/news/politics/immigration/2021/11/30/414371/coronavirus-shuts-down-legal-proceedings-in-latest-misstep-for-texas-border-crackdown/\n",
      "/npr/2021/12/01/1056950304/listen-live-supreme-court-considers-whether-to-reverse-roe-v-wade-arguments/\n",
      "/npr/2021/12/01/1060023038/this-mississippi-clinic-is-at-the-center-of-the-case-that-could-end-roe-v-wade/\n",
      "/npr/2021/12/01/1059896434/democracy-is-declining-in-the-u-s-but-its-not-all-bad-news-a-report-finds/\n",
      "/npr/2021/12/01/1060260306/cnn-suspends-chris-cuomo-indefinitely-over-his-role-in-his-brothers-defense/\n",
      "https://www.houstonpublicmedia.org/articles/news/politics/immigration/2021/11/30/414365/misleading-and-dangerous-human-rights-groups-condemn-gov-abbotts-rhetoric-on-south-africa/\n",
      "https://www.houstonpublicmedia.org/articles/news/criminal-justice/2021/11/30/414358/sutherland-springs-victims-lawyer-calls-government-offer-inhumane-shocking/\n",
      "https://www.houstonpublicmedia.org/articles/shows/houston-matters/2021/11/30/414295/the-omicron-variants-threat-to-houston-nov-30-2021/\n",
      "https://www.houstonpublicmedia.org/articles/shows/town-square/2021/11/29/414335/what-is-the-impact-and-future-of-facebook-and-other-digital-technologies/\n",
      "https://www.houstonpublicmedia.org/articles/news/health-science/2021/11/29/414342/texas-health-experts-not-panicking-over-covids-omicron-variant-expect-cases-to-appear-soon/\n",
      "https://www.houstonpublicmedia.org/articles/news/arts-culture-news/2021/11/29/414325/14-year-old-boy-was-trampled-to-death-at-astroworld-concert-familys-attorney-says/\n",
      "https://www.houstonpublicmedia.org/articles/shows/health-matters/2021/11/29/414285/taking-care-of-a-caregiver/\n",
      "https://www.houstonpublicmedia.org/articles/shows/bauer-business-focus/2021/11/29/414274/inclusive-designs/\n",
      "https://www.houstonpublicmedia.org/articles/news/health-science/2021/11/29/414275/as-omicron-spreads-studies-suggest-that-travel-bans-alone-dont-do-much-good/\n",
      "https://www.houstonpublicmedia.org/articles/news/in-depth/2021/11/29/414194/hisd-board-members-face-hard-runoff-challenges/\n",
      "https://www.houstonpublicmedia.org/articles/news/politics/2021/11/29/414267/matthew-mcconaughey-says-he-wont-run-for-texas-governor/\n",
      "https://www.houstonpublicmedia.org/articles/shows/houston-matters/2021/11/29/414118/hisd-board-runoffs-and-how-houston-changed-sports-nov-29-2021/\n",
      "https://www.houstonpublicmedia.org/articles/news/health-science/2021/11/24/414246/health-experts-urge-texans-to-get-vaccinated-ahead-of-flu-season/\n",
      "https://www.houstonpublicmedia.org/articles/news/in-depth/2021/11/24/414025/a-pandemic-fueled-labor-shortage-has-put-a-strain-on-some-houston-restaurants/\n",
      "https://www.houstonpublicmedia.org/articles/news/criminal-justice/2021/11/24/414220/all-3-defendants-found-guilty-of-murdering-ahmaud-arbery/\n",
      "https://www.houstonpublicmedia.org/articles/shows/houston-matters/2021/11/24/414108/the-week-in-politics-and-the-world-table-tennis-championships-nov-24-2021/\n",
      "https://www.houstonpublicmedia.org/articles/shows/town-square/2021/11/23/414166/how-to-avoid-getting-in-the-red-when-shopping-on-black-friday/\n",
      "https://www.houstonpublicmedia.org/articles/news/politics/2021/11/23/414165/houstons-affordable-housing-program-is-now-on-hold-following-a-state-review/\n",
      "https://www.houstonpublicmedia.org/articles/news/business/2021/11/23/414125/nearly-4-million-texans-expected-to-travel-this-year-for-thanksgiving-holiday-aaa-reports/\n",
      "https://www.houstonpublicmedia.org/articles/news/politics/2021/11/23/414100/u-s-rep-louie-gohmert-joins-texas-republicans-running-against-attorney-general-ken-paxton/\n"
     ]
    }
   ],
   "source": [
    "for title in doc.find_all('h2'):\n",
    "    print(title.a['href'])"
   ]
  },
  {
   "cell_type": "code",
   "execution_count": 22,
   "id": "39dc067a",
   "metadata": {},
   "outputs": [
    {
     "data": {
      "text/plain": [
       "[{'title': 'U.S. Rep. Louie Gohmert joins Texas Republicans running against Attorney General Ken Paxton'},\n",
       " {'title': 'U.S. Rep. Louie Gohmert joins Texas Republicans running against Attorney General Ken Paxton'},\n",
       " {'title': 'U.S. Rep. Louie Gohmert joins Texas Republicans running against Attorney General Ken Paxton'},\n",
       " {'title': 'U.S. Rep. Louie Gohmert joins Texas Republicans running against Attorney General Ken Paxton'},\n",
       " {'title': 'U.S. Rep. Louie Gohmert joins Texas Republicans running against Attorney General Ken Paxton'},\n",
       " {'title': 'U.S. Rep. Louie Gohmert joins Texas Republicans running against Attorney General Ken Paxton'},\n",
       " {'title': 'U.S. Rep. Louie Gohmert joins Texas Republicans running against Attorney General Ken Paxton'},\n",
       " {'title': 'U.S. Rep. Louie Gohmert joins Texas Republicans running against Attorney General Ken Paxton'},\n",
       " {'title': 'U.S. Rep. Louie Gohmert joins Texas Republicans running against Attorney General Ken Paxton'},\n",
       " {'title': 'U.S. Rep. Louie Gohmert joins Texas Republicans running against Attorney General Ken Paxton'},\n",
       " {'title': 'U.S. Rep. Louie Gohmert joins Texas Republicans running against Attorney General Ken Paxton'},\n",
       " {'title': 'U.S. Rep. Louie Gohmert joins Texas Republicans running against Attorney General Ken Paxton'},\n",
       " {'title': 'U.S. Rep. Louie Gohmert joins Texas Republicans running against Attorney General Ken Paxton'},\n",
       " {'title': 'U.S. Rep. Louie Gohmert joins Texas Republicans running against Attorney General Ken Paxton'},\n",
       " {'title': 'U.S. Rep. Louie Gohmert joins Texas Republicans running against Attorney General Ken Paxton'},\n",
       " {'title': 'U.S. Rep. Louie Gohmert joins Texas Republicans running against Attorney General Ken Paxton'},\n",
       " {'title': 'U.S. Rep. Louie Gohmert joins Texas Republicans running against Attorney General Ken Paxton'},\n",
       " {'title': 'U.S. Rep. Louie Gohmert joins Texas Republicans running against Attorney General Ken Paxton'},\n",
       " {'title': 'U.S. Rep. Louie Gohmert joins Texas Republicans running against Attorney General Ken Paxton'},\n",
       " {'title': 'U.S. Rep. Louie Gohmert joins Texas Republicans running against Attorney General Ken Paxton'},\n",
       " {'title': 'U.S. Rep. Louie Gohmert joins Texas Republicans running against Attorney General Ken Paxton'},\n",
       " {'title': 'U.S. Rep. Louie Gohmert joins Texas Republicans running against Attorney General Ken Paxton'},\n",
       " {'title': 'U.S. Rep. Louie Gohmert joins Texas Republicans running against Attorney General Ken Paxton'},\n",
       " {'title': 'U.S. Rep. Louie Gohmert joins Texas Republicans running against Attorney General Ken Paxton'},\n",
       " {'title': 'U.S. Rep. Louie Gohmert joins Texas Republicans running against Attorney General Ken Paxton'},\n",
       " {'title': 'U.S. Rep. Louie Gohmert joins Texas Republicans running against Attorney General Ken Paxton'},\n",
       " {'title': 'U.S. Rep. Louie Gohmert joins Texas Republicans running against Attorney General Ken Paxton'},\n",
       " {'title': 'U.S. Rep. Louie Gohmert joins Texas Republicans running against Attorney General Ken Paxton'},\n",
       " {'title': 'U.S. Rep. Louie Gohmert joins Texas Republicans running against Attorney General Ken Paxton'},\n",
       " {'title': 'U.S. Rep. Louie Gohmert joins Texas Republicans running against Attorney General Ken Paxton'},\n",
       " {'title': 'U.S. Rep. Louie Gohmert joins Texas Republicans running against Attorney General Ken Paxton'},\n",
       " {'title': 'U.S. Rep. Louie Gohmert joins Texas Republicans running against Attorney General Ken Paxton'},\n",
       " {'title': 'U.S. Rep. Louie Gohmert joins Texas Republicans running against Attorney General Ken Paxton'},\n",
       " {'title': 'U.S. Rep. Louie Gohmert joins Texas Republicans running against Attorney General Ken Paxton'},\n",
       " {'title': 'U.S. Rep. Louie Gohmert joins Texas Republicans running against Attorney General Ken Paxton'}]"
      ]
     },
     "execution_count": 22,
     "metadata": {},
     "output_type": "execute_result"
    }
   ],
   "source": [
    "the_table = []\n",
    "\n",
    "for section in doc.find_all('h3'):\n",
    "    dict ={}\n",
    "    dict['title'] = title.string\n",
    "    the_table.append(dict)\n",
    "    \n",
    "the_table"
   ]
  }
 ],
 "metadata": {
  "kernelspec": {
   "display_name": "Python 3 (ipykernel)",
   "language": "python",
   "name": "python3"
  },
  "language_info": {
   "codemirror_mode": {
    "name": "ipython",
    "version": 3
   },
   "file_extension": ".py",
   "mimetype": "text/x-python",
   "name": "python",
   "nbconvert_exporter": "python",
   "pygments_lexer": "ipython3",
   "version": "3.10.0"
  }
 },
 "nbformat": 4,
 "nbformat_minor": 5
}
