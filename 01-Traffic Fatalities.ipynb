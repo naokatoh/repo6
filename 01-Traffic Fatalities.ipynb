{
 "cells": [
  {
   "cell_type": "markdown",
   "id": "dff6e79f",
   "metadata": {},
   "source": [
    "# Traffic Fatalities\n",
    "\n",
    "* **Data:** `traffic-fatalities.csv`\n",
    "* **Description:** NYC Pedestrian Fatalities (Bicycle-Pedestrian and Motor Vehicle-Pedestrian Crashes)\n",
    "* **Source:** https://www1.nyc.gov/html/dot/downloads/pdf/nycdot-pedestrian-fatalities-by-bike-motor-vehicle.pdf\n",
    "* **Columns of interest:**\n",
    "    * `Year` is the year of the measurements\n",
    "    * `Struck_by_Bicycle` is the number of people killed after being hit by a bicycle\n",
    "    * `Struck_by_Motor_Vehicle` is the number of people killed after being hit by a motor vehicle (car, bus, etc)"
   ]
  },
  {
   "cell_type": "markdown",
   "id": "1d360b17",
   "metadata": {},
   "source": [
    "## Read in the data"
   ]
  },
  {
   "cell_type": "code",
   "execution_count": 3,
   "id": "8b9b23cd",
   "metadata": {},
   "outputs": [
    {
     "data": {
      "text/html": [
       "<div>\n",
       "<style scoped>\n",
       "    .dataframe tbody tr th:only-of-type {\n",
       "        vertical-align: middle;\n",
       "    }\n",
       "\n",
       "    .dataframe tbody tr th {\n",
       "        vertical-align: top;\n",
       "    }\n",
       "\n",
       "    .dataframe thead th {\n",
       "        text-align: right;\n",
       "    }\n",
       "</style>\n",
       "<table border=\"1\" class=\"dataframe\">\n",
       "  <thead>\n",
       "    <tr style=\"text-align: right;\">\n",
       "      <th></th>\n",
       "      <th>Year</th>\n",
       "      <th>Struck_by_Bicycle</th>\n",
       "      <th>Struck_by_Motor_Vehicle</th>\n",
       "    </tr>\n",
       "  </thead>\n",
       "  <tbody>\n",
       "    <tr>\n",
       "      <th>0</th>\n",
       "      <td>2006</td>\n",
       "      <td>0</td>\n",
       "      <td>168</td>\n",
       "    </tr>\n",
       "    <tr>\n",
       "      <th>1</th>\n",
       "      <td>2007</td>\n",
       "      <td>0</td>\n",
       "      <td>140</td>\n",
       "    </tr>\n",
       "    <tr>\n",
       "      <th>2</th>\n",
       "      <td>2008</td>\n",
       "      <td>1</td>\n",
       "      <td>153</td>\n",
       "    </tr>\n",
       "    <tr>\n",
       "      <th>3</th>\n",
       "      <td>2009</td>\n",
       "      <td>2</td>\n",
       "      <td>156</td>\n",
       "    </tr>\n",
       "    <tr>\n",
       "      <th>4</th>\n",
       "      <td>2010</td>\n",
       "      <td>0</td>\n",
       "      <td>153</td>\n",
       "    </tr>\n",
       "  </tbody>\n",
       "</table>\n",
       "</div>"
      ],
      "text/plain": [
       "   Year  Struck_by_Bicycle  Struck_by_Motor_Vehicle\n",
       "0  2006                  0                      168\n",
       "1  2007                  0                      140\n",
       "2  2008                  1                      153\n",
       "3  2009                  2                      156\n",
       "4  2010                  0                      153"
      ]
     },
     "execution_count": 3,
     "metadata": {},
     "output_type": "execute_result"
    }
   ],
   "source": [
    "import pandas as pd\n",
    "\n",
    "df = pd.read_csv(\"traffic-fatalities.csv\")\n",
    "df.head()"
   ]
  },
  {
   "cell_type": "markdown",
   "id": "b4c3b134",
   "metadata": {},
   "source": [
    "## How many years of data do we have?\n",
    "\n",
    "Provide the first and last year."
   ]
  },
  {
   "cell_type": "code",
   "execution_count": 7,
   "id": "7d7cdd2f",
   "metadata": {},
   "outputs": [
    {
     "data": {
      "text/plain": [
       "2006    1\n",
       "2007    1\n",
       "2008    1\n",
       "2009    1\n",
       "2010    1\n",
       "2011    1\n",
       "2012    1\n",
       "2013    1\n",
       "2014    1\n",
       "2015    1\n",
       "2016    1\n",
       "2017    1\n",
       "2018    1\n",
       "2019    1\n",
       "2020    1\n",
       "Name: Year, dtype: int64"
      ]
     },
     "execution_count": 7,
     "metadata": {},
     "output_type": "execute_result"
    }
   ],
   "source": [
    "df.Year.value_counts()\n",
    "\n",
    "# from 2006 to 2020 : 15 years of data"
   ]
  },
  {
   "cell_type": "markdown",
   "id": "6c042a62",
   "metadata": {},
   "source": [
    "## Total number of people killed by being struck by motor vehicles"
   ]
  },
  {
   "cell_type": "code",
   "execution_count": 9,
   "id": "67bbf242",
   "metadata": {},
   "outputs": [
    {
     "data": {
      "text/plain": [
       "2116"
      ]
     },
     "execution_count": 9,
     "metadata": {},
     "output_type": "execute_result"
    }
   ],
   "source": [
    "df.Struck_by_Motor_Vehicle.sum()"
   ]
  },
  {
   "cell_type": "markdown",
   "id": "fd7fa2ee",
   "metadata": {},
   "source": [
    "## Create a new column for each year that is total deaths"
   ]
  },
  {
   "cell_type": "code",
   "execution_count": 13,
   "id": "83bbc9ef",
   "metadata": {},
   "outputs": [
    {
     "data": {
      "text/html": [
       "<div>\n",
       "<style scoped>\n",
       "    .dataframe tbody tr th:only-of-type {\n",
       "        vertical-align: middle;\n",
       "    }\n",
       "\n",
       "    .dataframe tbody tr th {\n",
       "        vertical-align: top;\n",
       "    }\n",
       "\n",
       "    .dataframe thead th {\n",
       "        text-align: right;\n",
       "    }\n",
       "</style>\n",
       "<table border=\"1\" class=\"dataframe\">\n",
       "  <thead>\n",
       "    <tr style=\"text-align: right;\">\n",
       "      <th></th>\n",
       "      <th>Year</th>\n",
       "      <th>Struck_by_Bicycle</th>\n",
       "      <th>Struck_by_Motor_Vehicle</th>\n",
       "      <th>total_death</th>\n",
       "    </tr>\n",
       "  </thead>\n",
       "  <tbody>\n",
       "    <tr>\n",
       "      <th>0</th>\n",
       "      <td>2006</td>\n",
       "      <td>0</td>\n",
       "      <td>168</td>\n",
       "      <td>168</td>\n",
       "    </tr>\n",
       "    <tr>\n",
       "      <th>1</th>\n",
       "      <td>2007</td>\n",
       "      <td>0</td>\n",
       "      <td>140</td>\n",
       "      <td>140</td>\n",
       "    </tr>\n",
       "    <tr>\n",
       "      <th>2</th>\n",
       "      <td>2008</td>\n",
       "      <td>1</td>\n",
       "      <td>153</td>\n",
       "      <td>154</td>\n",
       "    </tr>\n",
       "    <tr>\n",
       "      <th>3</th>\n",
       "      <td>2009</td>\n",
       "      <td>2</td>\n",
       "      <td>156</td>\n",
       "      <td>158</td>\n",
       "    </tr>\n",
       "    <tr>\n",
       "      <th>4</th>\n",
       "      <td>2010</td>\n",
       "      <td>0</td>\n",
       "      <td>153</td>\n",
       "      <td>153</td>\n",
       "    </tr>\n",
       "    <tr>\n",
       "      <th>5</th>\n",
       "      <td>2011</td>\n",
       "      <td>0</td>\n",
       "      <td>143</td>\n",
       "      <td>143</td>\n",
       "    </tr>\n",
       "    <tr>\n",
       "      <th>6</th>\n",
       "      <td>2012</td>\n",
       "      <td>0</td>\n",
       "      <td>151</td>\n",
       "      <td>151</td>\n",
       "    </tr>\n",
       "    <tr>\n",
       "      <th>7</th>\n",
       "      <td>2013</td>\n",
       "      <td>1</td>\n",
       "      <td>183</td>\n",
       "      <td>184</td>\n",
       "    </tr>\n",
       "    <tr>\n",
       "      <th>8</th>\n",
       "      <td>2014</td>\n",
       "      <td>3</td>\n",
       "      <td>137</td>\n",
       "      <td>140</td>\n",
       "    </tr>\n",
       "    <tr>\n",
       "      <th>9</th>\n",
       "      <td>2015</td>\n",
       "      <td>0</td>\n",
       "      <td>139</td>\n",
       "      <td>139</td>\n",
       "    </tr>\n",
       "    <tr>\n",
       "      <th>10</th>\n",
       "      <td>2016</td>\n",
       "      <td>0</td>\n",
       "      <td>149</td>\n",
       "      <td>149</td>\n",
       "    </tr>\n",
       "    <tr>\n",
       "      <th>11</th>\n",
       "      <td>2017</td>\n",
       "      <td>1</td>\n",
       "      <td>107</td>\n",
       "      <td>108</td>\n",
       "    </tr>\n",
       "    <tr>\n",
       "      <th>12</th>\n",
       "      <td>2018</td>\n",
       "      <td>0</td>\n",
       "      <td>116</td>\n",
       "      <td>116</td>\n",
       "    </tr>\n",
       "    <tr>\n",
       "      <th>13</th>\n",
       "      <td>2019</td>\n",
       "      <td>2</td>\n",
       "      <td>122</td>\n",
       "      <td>124</td>\n",
       "    </tr>\n",
       "    <tr>\n",
       "      <th>14</th>\n",
       "      <td>2020</td>\n",
       "      <td>0</td>\n",
       "      <td>99</td>\n",
       "      <td>99</td>\n",
       "    </tr>\n",
       "  </tbody>\n",
       "</table>\n",
       "</div>"
      ],
      "text/plain": [
       "    Year  Struck_by_Bicycle  Struck_by_Motor_Vehicle  total_death\n",
       "0   2006                  0                      168          168\n",
       "1   2007                  0                      140          140\n",
       "2   2008                  1                      153          154\n",
       "3   2009                  2                      156          158\n",
       "4   2010                  0                      153          153\n",
       "5   2011                  0                      143          143\n",
       "6   2012                  0                      151          151\n",
       "7   2013                  1                      183          184\n",
       "8   2014                  3                      137          140\n",
       "9   2015                  0                      139          139\n",
       "10  2016                  0                      149          149\n",
       "11  2017                  1                      107          108\n",
       "12  2018                  0                      116          116\n",
       "13  2019                  2                      122          124\n",
       "14  2020                  0                       99           99"
      ]
     },
     "execution_count": 13,
     "metadata": {},
     "output_type": "execute_result"
    }
   ],
   "source": [
    "df['total_death'] = df.Struck_by_Bicycle + df.Struck_by_Motor_Vehicle\n",
    "\n",
    "df"
   ]
  },
  {
   "cell_type": "markdown",
   "id": "707c25cd",
   "metadata": {},
   "source": [
    "## Create a new column that is percent of deaths caused by bicycles"
   ]
  },
  {
   "cell_type": "code",
   "execution_count": 19,
   "id": "09fa9cd5",
   "metadata": {},
   "outputs": [
    {
     "data": {
      "text/html": [
       "<div>\n",
       "<style scoped>\n",
       "    .dataframe tbody tr th:only-of-type {\n",
       "        vertical-align: middle;\n",
       "    }\n",
       "\n",
       "    .dataframe tbody tr th {\n",
       "        vertical-align: top;\n",
       "    }\n",
       "\n",
       "    .dataframe thead th {\n",
       "        text-align: right;\n",
       "    }\n",
       "</style>\n",
       "<table border=\"1\" class=\"dataframe\">\n",
       "  <thead>\n",
       "    <tr style=\"text-align: right;\">\n",
       "      <th></th>\n",
       "      <th>Year</th>\n",
       "      <th>Struck_by_Bicycle</th>\n",
       "      <th>Struck_by_Motor_Vehicle</th>\n",
       "      <th>total_death</th>\n",
       "      <th>pct_bicycle</th>\n",
       "    </tr>\n",
       "  </thead>\n",
       "  <tbody>\n",
       "    <tr>\n",
       "      <th>0</th>\n",
       "      <td>2006</td>\n",
       "      <td>0</td>\n",
       "      <td>168</td>\n",
       "      <td>168</td>\n",
       "      <td>0.000000</td>\n",
       "    </tr>\n",
       "    <tr>\n",
       "      <th>1</th>\n",
       "      <td>2007</td>\n",
       "      <td>0</td>\n",
       "      <td>140</td>\n",
       "      <td>140</td>\n",
       "      <td>0.000000</td>\n",
       "    </tr>\n",
       "    <tr>\n",
       "      <th>2</th>\n",
       "      <td>2008</td>\n",
       "      <td>1</td>\n",
       "      <td>153</td>\n",
       "      <td>154</td>\n",
       "      <td>0.649351</td>\n",
       "    </tr>\n",
       "    <tr>\n",
       "      <th>3</th>\n",
       "      <td>2009</td>\n",
       "      <td>2</td>\n",
       "      <td>156</td>\n",
       "      <td>158</td>\n",
       "      <td>1.265823</td>\n",
       "    </tr>\n",
       "    <tr>\n",
       "      <th>4</th>\n",
       "      <td>2010</td>\n",
       "      <td>0</td>\n",
       "      <td>153</td>\n",
       "      <td>153</td>\n",
       "      <td>0.000000</td>\n",
       "    </tr>\n",
       "    <tr>\n",
       "      <th>5</th>\n",
       "      <td>2011</td>\n",
       "      <td>0</td>\n",
       "      <td>143</td>\n",
       "      <td>143</td>\n",
       "      <td>0.000000</td>\n",
       "    </tr>\n",
       "    <tr>\n",
       "      <th>6</th>\n",
       "      <td>2012</td>\n",
       "      <td>0</td>\n",
       "      <td>151</td>\n",
       "      <td>151</td>\n",
       "      <td>0.000000</td>\n",
       "    </tr>\n",
       "    <tr>\n",
       "      <th>7</th>\n",
       "      <td>2013</td>\n",
       "      <td>1</td>\n",
       "      <td>183</td>\n",
       "      <td>184</td>\n",
       "      <td>0.543478</td>\n",
       "    </tr>\n",
       "    <tr>\n",
       "      <th>8</th>\n",
       "      <td>2014</td>\n",
       "      <td>3</td>\n",
       "      <td>137</td>\n",
       "      <td>140</td>\n",
       "      <td>2.142857</td>\n",
       "    </tr>\n",
       "    <tr>\n",
       "      <th>9</th>\n",
       "      <td>2015</td>\n",
       "      <td>0</td>\n",
       "      <td>139</td>\n",
       "      <td>139</td>\n",
       "      <td>0.000000</td>\n",
       "    </tr>\n",
       "    <tr>\n",
       "      <th>10</th>\n",
       "      <td>2016</td>\n",
       "      <td>0</td>\n",
       "      <td>149</td>\n",
       "      <td>149</td>\n",
       "      <td>0.000000</td>\n",
       "    </tr>\n",
       "    <tr>\n",
       "      <th>11</th>\n",
       "      <td>2017</td>\n",
       "      <td>1</td>\n",
       "      <td>107</td>\n",
       "      <td>108</td>\n",
       "      <td>0.925926</td>\n",
       "    </tr>\n",
       "    <tr>\n",
       "      <th>12</th>\n",
       "      <td>2018</td>\n",
       "      <td>0</td>\n",
       "      <td>116</td>\n",
       "      <td>116</td>\n",
       "      <td>0.000000</td>\n",
       "    </tr>\n",
       "    <tr>\n",
       "      <th>13</th>\n",
       "      <td>2019</td>\n",
       "      <td>2</td>\n",
       "      <td>122</td>\n",
       "      <td>124</td>\n",
       "      <td>1.612903</td>\n",
       "    </tr>\n",
       "    <tr>\n",
       "      <th>14</th>\n",
       "      <td>2020</td>\n",
       "      <td>0</td>\n",
       "      <td>99</td>\n",
       "      <td>99</td>\n",
       "      <td>0.000000</td>\n",
       "    </tr>\n",
       "  </tbody>\n",
       "</table>\n",
       "</div>"
      ],
      "text/plain": [
       "    Year  Struck_by_Bicycle  Struck_by_Motor_Vehicle  total_death  pct_bicycle\n",
       "0   2006                  0                      168          168     0.000000\n",
       "1   2007                  0                      140          140     0.000000\n",
       "2   2008                  1                      153          154     0.649351\n",
       "3   2009                  2                      156          158     1.265823\n",
       "4   2010                  0                      153          153     0.000000\n",
       "5   2011                  0                      143          143     0.000000\n",
       "6   2012                  0                      151          151     0.000000\n",
       "7   2013                  1                      183          184     0.543478\n",
       "8   2014                  3                      137          140     2.142857\n",
       "9   2015                  0                      139          139     0.000000\n",
       "10  2016                  0                      149          149     0.000000\n",
       "11  2017                  1                      107          108     0.925926\n",
       "12  2018                  0                      116          116     0.000000\n",
       "13  2019                  2                      122          124     1.612903\n",
       "14  2020                  0                       99           99     0.000000"
      ]
     },
     "execution_count": 19,
     "metadata": {},
     "output_type": "execute_result"
    }
   ],
   "source": [
    "df['pct_bicycle'] = (df.Struck_by_Bicycle / df.total_death)*100\n",
    "df"
   ]
  },
  {
   "cell_type": "markdown",
   "id": "a2fe8698",
   "metadata": {},
   "source": [
    "## What year had the highest percentage of deaths caused by bicycles?"
   ]
  },
  {
   "cell_type": "code",
   "execution_count": 41,
   "id": "d51d0b83",
   "metadata": {},
   "outputs": [
    {
     "data": {
      "text/plain": [
       "8     2.142857\n",
       "13    1.612903\n",
       "3     1.265823\n",
       "11    0.925926\n",
       "2     0.649351\n",
       "7     0.543478\n",
       "0     0.000000\n",
       "1     0.000000\n",
       "4     0.000000\n",
       "5     0.000000\n",
       "6     0.000000\n",
       "9     0.000000\n",
       "10    0.000000\n",
       "12    0.000000\n",
       "14    0.000000\n",
       "Name: pct_bicycle, dtype: float64"
      ]
     },
     "execution_count": 41,
     "metadata": {},
     "output_type": "execute_result"
    }
   ],
   "source": [
    "df.pct_bicycle.sort_values(ascending =False)\n",
    "\n",
    "#2014"
   ]
  },
  {
   "cell_type": "markdown",
   "id": "e96f3128",
   "metadata": {},
   "source": [
    "## Complete the following sentence, using the year from the last question\n",
    "\n",
    "`In the year ____, ____% of pedestrian deaths were caused by bicycles.` Just type it in a comment, no need to use f-strings or anything. "
   ]
  },
  {
   "cell_type": "code",
   "execution_count": null,
   "id": "5401c044",
   "metadata": {},
   "outputs": [],
   "source": [
    "In the year 2014, 2.14% of pedestrian deaths were caused by bicycles."
   ]
  },
  {
   "cell_type": "markdown",
   "id": "55910d77",
   "metadata": {},
   "source": [
    "## Plot the total number of traffic fatalities over time\n",
    "\n",
    "Make sure the y axis starts at zero."
   ]
  },
  {
   "cell_type": "code",
   "execution_count": 72,
   "id": "a8679057",
   "metadata": {},
   "outputs": [
    {
     "data": {
      "text/plain": [
       "<AxesSubplot:>"
      ]
     },
     "execution_count": 72,
     "metadata": {},
     "output_type": "execute_result"
    },
    {
     "data": {
      "image/png": "[encoded data removed]",
      "text/plain": [
       "<Figure size 432x288 with 1 Axes>"
      ]
     },
     "metadata": {
      "needs_background": "light"
     },
     "output_type": "display_data"
    }
   ],
   "source": [
    "\n",
    "df.total_death.plot(kind =\"barh\")\n"
   ]
  },
  {
   "cell_type": "markdown",
   "id": "4ce2f402",
   "metadata": {},
   "source": [
    "## What year had the largest percent drop in traffic fatalities?\n",
    "\n",
    "You calculate percentage change on a column using using `.pct_change()`."
   ]
  },
  {
   "cell_type": "code",
   "execution_count": 61,
   "id": "d5309975",
   "metadata": {},
   "outputs": [
    {
     "data": {
      "text/plain": [
       "7     21.854305\n",
       "2     10.000000\n",
       "12     7.407407\n",
       "10     7.194245\n",
       "13     6.896552\n",
       "6      5.594406\n",
       "3      2.597403\n",
       "9     -0.714286\n",
       "4     -3.164557\n",
       "5     -6.535948\n",
       "1    -16.666667\n",
       "14   -20.161290\n",
       "8    -23.913043\n",
       "11   -27.516779\n",
       "0           NaN\n",
       "Name: pct_changes, dtype: float64"
      ]
     },
     "execution_count": 61,
     "metadata": {},
     "output_type": "execute_result"
    }
   ],
   "source": [
    "df['pct_changes'] = df.total_death.pct_change(periods=1)*100\n",
    "df.pct_changes.sort_values(ascending = False)\n",
    "#2013"
   ]
  },
  {
   "cell_type": "markdown",
   "id": "5ff3a3e8",
   "metadata": {},
   "source": [
    "## Complete the following sentence, using the year from the last question\n",
    "\n",
    "`Compared to the previous year, in____ there was a ____% drop in traffic fatalities.` Just type it in a comment, no need to use f-strings or anything. "
   ]
  },
  {
   "cell_type": "code",
   "execution_count": null,
   "id": "9f9f0c2f",
   "metadata": {},
   "outputs": [],
   "source": [
    "Compared to the previous year, in 2013 there was a 21% drop in traffic fatalities."
   ]
  }
 ],
 "metadata": {
  "kernelspec": {
   "display_name": "Python 3 (ipykernel)",
   "language": "python",
   "name": "python3"
  },
  "language_info": {
   "codemirror_mode": {
    "name": "ipython",
    "version": 3
   },
   "file_extension": ".py",
   "mimetype": "text/x-python",
   "name": "python",
   "nbconvert_exporter": "python",
   "pygments_lexer": "ipython3",
   "version": "3.10.0"
  }
 },
 "nbformat": 4,
 "nbformat_minor": 5
}
